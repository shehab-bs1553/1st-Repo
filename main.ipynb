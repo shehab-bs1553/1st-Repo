{
 "cells": [
  {
   "cell_type": "code",
   "execution_count": 1,
   "metadata": {},
   "outputs": [
    {
     "name": "stderr",
     "output_type": "stream",
     "text": [
      "<>:6: SyntaxWarning: invalid escape sequence '\\p'\n",
      "<>:8: SyntaxWarning: invalid escape sequence '\\S'\n",
      "<>:6: SyntaxWarning: invalid escape sequence '\\p'\n",
      "<>:8: SyntaxWarning: invalid escape sequence '\\S'\n",
      "C:\\Users\\BS-Test\\AppData\\Local\\Temp\\ipykernel_27812\\2217691065.py:6: SyntaxWarning: invalid escape sequence '\\p'\n",
      "  main_directory = '..\\pokemon_image\\Pokemon Images DB'\n",
      "C:\\Users\\BS-Test\\AppData\\Local\\Temp\\ipykernel_27812\\2217691065.py:8: SyntaxWarning: invalid escape sequence '\\S'\n",
      "  destination_directory = '..\\Selected_Image_folder'\n"
     ]
    },
    {
     "name": "stdout",
     "output_type": "stream",
     "text": [
      "Selected folders and their contents have been copied to ..\\Selected_Image_folder\n"
     ]
    }
   ],
   "source": [
    "import os\n",
    "import random\n",
    "import shutil\n",
    "import cv2\n",
    "\n",
    "main_directory = '..\\pokemon_image\\Pokemon Images DB'\n",
    "\n",
    "destination_directory = '..\\Selected_Image_folder'\n",
    "\n",
    "os.makedirs(destination_directory, exist_ok=True)\n",
    "\n",
    "all_items = os.listdir(main_directory)\n",
    "\n",
    "all_folders = [item for item in all_items if os.path.isdir(os.path.join(main_directory, item))]\n",
    "random.seed(42)\n",
    "selected_folders = random.sample(all_folders, 10)\n",
    "\n",
    "for i in selected_folders:\n",
    "    src_path = os.path.join(main_directory, i)\n",
    "    dst_path = os.path.join(destination_directory, i)\n",
    "    shutil.copytree(src_path, dst_path)\n",
    "print(f\"Selected folders and their contents have been copied to {destination_directory}\")\n"
   ]
  },
  {
   "cell_type": "markdown",
   "metadata": {},
   "source": [
    "Function for display the images: "
   ]
  },
  {
   "cell_type": "code",
   "execution_count": 2,
   "metadata": {},
   "outputs": [],
   "source": [
    "def show(dd):\n",
    " for folder in selected_folders:\n",
    "    folder_path = os.path.join(dd, folder)\n",
    "    for filename in os.listdir(folder_path):\n",
    "        file_path = os.path.join(folder_path, filename)\n",
    "        if os.path.isfile(file_path) and file_path.lower().endswith(('.png', '.jpg', '.jpeg', '.bmp', '.tiff')):\n",
    "            image = cv2.imread(file_path)\n",
    "              \n",
    "            cv2.imshow(filename, image)\n",
    "            cv2.waitKey(0) \n",
    "            cv2.destroyAllWindows()"
   ]
  },
  {
   "cell_type": "code",
   "execution_count": 3,
   "metadata": {},
   "outputs": [],
   "source": [
    "# show('..\\Selected_Image_folder')"
   ]
  },
  {
   "cell_type": "markdown",
   "metadata": {},
   "source": [
    "For gray scale the images."
   ]
  },
  {
   "cell_type": "code",
   "execution_count": 4,
   "metadata": {},
   "outputs": [
    {
     "name": "stderr",
     "output_type": "stream",
     "text": [
      "<>:1: SyntaxWarning: invalid escape sequence '\\c'\n",
      "<>:2: SyntaxWarning: invalid escape sequence '\\S'\n",
      "<>:1: SyntaxWarning: invalid escape sequence '\\c'\n",
      "<>:2: SyntaxWarning: invalid escape sequence '\\S'\n",
      "C:\\Users\\BS-Test\\AppData\\Local\\Temp\\ipykernel_27812\\2991734092.py:1: SyntaxWarning: invalid escape sequence '\\c'\n",
      "  output_directory= '..\\cv_output'\n",
      "C:\\Users\\BS-Test\\AppData\\Local\\Temp\\ipykernel_27812\\2991734092.py:2: SyntaxWarning: invalid escape sequence '\\S'\n",
      "  main_directory = '..\\Selected_Image_folder'\n"
     ]
    }
   ],
   "source": [
    "output_directory= '..\\cv_output'\n",
    "main_directory = '..\\Selected_Image_folder'\n",
    "for folder in selected_folders:\n",
    "    folder_path = os.path.join(main_directory, folder)\n",
    "    for filename in os.listdir(folder_path):\n",
    "        file_path = os.path.join(folder_path, filename)\n",
    "        if os.path.isfile(file_path) and file_path.lower().endswith(('.png', '.jpg', '.jpeg', '.bmp', '.tiff')):\n",
    "            \n",
    "            image = cv2.imread(file_path)\n",
    "            if image is not None:\n",
    "                \n",
    "                grayscale_image = cv2.cvtColor(image, cv2.COLOR_BGR2GRAY)\n",
    "                \n",
    "                output_folder_path = os.path.join(output_directory, folder)\n",
    "                os.makedirs(output_folder_path, exist_ok=True)\n",
    "                file_name, file_extension = os.path.splitext(filename)\n",
    "                \n",
    "                output_file_name = f\"{file_name}_gray_scale_image{file_extension}\"\n",
    "                output_file_path = os.path.join(output_folder_path, output_file_name)\n",
    "                \n",
    "                cv2.imwrite(output_file_path, grayscale_image)"
   ]
  },
  {
   "cell_type": "code",
   "execution_count": 5,
   "metadata": {},
   "outputs": [],
   "source": [
    "# show('..\\cv_output')"
   ]
  },
  {
   "cell_type": "markdown",
   "metadata": {},
   "source": [
    "for image Resizeing: "
   ]
  },
  {
   "cell_type": "code",
   "execution_count": 6,
   "metadata": {},
   "outputs": [
    {
     "name": "stderr",
     "output_type": "stream",
     "text": [
      "<>:1: SyntaxWarning: invalid escape sequence '\\c'\n",
      "<>:2: SyntaxWarning: invalid escape sequence '\\S'\n",
      "<>:1: SyntaxWarning: invalid escape sequence '\\c'\n",
      "<>:2: SyntaxWarning: invalid escape sequence '\\S'\n",
      "C:\\Users\\BS-Test\\AppData\\Local\\Temp\\ipykernel_27812\\2170819639.py:1: SyntaxWarning: invalid escape sequence '\\c'\n",
      "  output_directory= '..\\cv_output'\n",
      "C:\\Users\\BS-Test\\AppData\\Local\\Temp\\ipykernel_27812\\2170819639.py:2: SyntaxWarning: invalid escape sequence '\\S'\n",
      "  main_directory = '..\\Selected_Image_folder'\n"
     ]
    }
   ],
   "source": [
    "output_directory= '..\\cv_output'\n",
    "main_directory = '..\\Selected_Image_folder'\n",
    "target_size = (224, 224)\n",
    "for folder in selected_folders:\n",
    "    folder_path = os.path.join(main_directory, folder)\n",
    "    for filename in os.listdir(folder_path):\n",
    "        file_path = os.path.join(folder_path, filename)\n",
    "        if os.path.isfile(file_path) and file_path.lower().endswith(('.png', '.jpg', '.jpeg', '.bmp', '.tiff')):\n",
    "            image = cv2.imread(file_path)\n",
    "            if image is not None:\n",
    "               \n",
    "                resized_image = cv2.resize(image, target_size)\n",
    "                \n",
    "               \n",
    "                output_folder_path = os.path.join(output_directory, folder)\n",
    "                os.makedirs(output_folder_path, exist_ok=True)\n",
    "                \n",
    "                file_name, file_extension = os.path.splitext(filename)\n",
    "                \n",
    "                output_file_name = f\"{file_name}_resized_image{file_extension}\"\n",
    "                output_file_path = os.path.join(output_folder_path, output_file_name)\n",
    "                \n",
    "                cv2.imwrite(output_file_path, resized_image)"
   ]
  },
  {
   "cell_type": "code",
   "execution_count": 7,
   "metadata": {},
   "outputs": [],
   "source": [
    "# show('..\\cv_output')"
   ]
  },
  {
   "cell_type": "markdown",
   "metadata": {},
   "source": [
    "Blurring the images: "
   ]
  },
  {
   "cell_type": "code",
   "execution_count": 8,
   "metadata": {},
   "outputs": [
    {
     "name": "stderr",
     "output_type": "stream",
     "text": [
      "<>:1: SyntaxWarning: invalid escape sequence '\\c'\n",
      "<>:2: SyntaxWarning: invalid escape sequence '\\S'\n",
      "<>:1: SyntaxWarning: invalid escape sequence '\\c'\n",
      "<>:2: SyntaxWarning: invalid escape sequence '\\S'\n",
      "C:\\Users\\BS-Test\\AppData\\Local\\Temp\\ipykernel_27812\\2389700353.py:1: SyntaxWarning: invalid escape sequence '\\c'\n",
      "  output_directory = '..\\cv_output'\n",
      "C:\\Users\\BS-Test\\AppData\\Local\\Temp\\ipykernel_27812\\2389700353.py:2: SyntaxWarning: invalid escape sequence '\\S'\n",
      "  dd='..\\Selected_Image_folder'\n"
     ]
    }
   ],
   "source": [
    "output_directory = '..\\cv_output'\n",
    "dd='..\\Selected_Image_folder'\n",
    "os.makedirs(output_directory, exist_ok=True)\n",
    "    \n",
    "for folder in selected_folders:\n",
    "        folder_path = os.path.join(dd, folder)\n",
    "        for filename in os.listdir(folder_path):\n",
    "            file_path = os.path.join(folder_path, filename)\n",
    "            if os.path.isfile(file_path) and file_path.lower().endswith(('.png', '.jpg', '.jpeg', '.bmp', '.tiff')):\n",
    "                \n",
    "                image = cv2.imread(file_path)\n",
    "                if image is not None:\n",
    "                    blurred_image = cv2.GaussianBlur(image, (5, 5), 0)\n",
    "                    \n",
    "                    \n",
    "                    output_folder_path = os.path.join(output_directory, folder)\n",
    "                    os.makedirs(output_folder_path, exist_ok=True)\n",
    "                    \n",
    "                    file_name, file_extension = os.path.splitext(filename)\n",
    "\n",
    "                    output_file_name = f\"{file_name}_blurred{file_extension}\"\n",
    "                    output_file_path = os.path.join(output_folder_path, output_file_name)\n",
    "                    \n",
    "                    cv2.imwrite(output_file_path, blurred_image)"
   ]
  },
  {
   "cell_type": "markdown",
   "metadata": {},
   "source": [
    "Add Noise into the images: "
   ]
  },
  {
   "cell_type": "code",
   "execution_count": 10,
   "metadata": {},
   "outputs": [
    {
     "name": "stderr",
     "output_type": "stream",
     "text": [
      "<>:8: SyntaxWarning: invalid escape sequence '\\c'\n",
      "<>:9: SyntaxWarning: invalid escape sequence '\\S'\n",
      "<>:8: SyntaxWarning: invalid escape sequence '\\c'\n",
      "<>:9: SyntaxWarning: invalid escape sequence '\\S'\n",
      "C:\\Users\\BS-Test\\AppData\\Local\\Temp\\ipykernel_27812\\4095112052.py:8: SyntaxWarning: invalid escape sequence '\\c'\n",
      "  output_directory = '..\\cv_output'\n",
      "C:\\Users\\BS-Test\\AppData\\Local\\Temp\\ipykernel_27812\\4095112052.py:9: SyntaxWarning: invalid escape sequence '\\S'\n",
      "  dd='..\\Selected_Image_folder'\n"
     ]
    }
   ],
   "source": [
    "import numpy as np\n",
    "def add_noise(image):\n",
    "    noise = np.zeros(image.shape, np.uint8)\n",
    "    cv2.randn(noise, 0, 25)\n",
    "\n",
    "    noisy_image = cv2.add(image, noise)\n",
    "    return noisy_image\n",
    "output_directory = '..\\cv_output'\n",
    "dd='..\\Selected_Image_folder'\n",
    "os.makedirs(output_directory, exist_ok=True)\n",
    "    \n",
    "for folder in selected_folders:\n",
    "        folder_path = os.path.join(dd, folder)\n",
    "        for filename in os.listdir(folder_path):\n",
    "            file_path = os.path.join(folder_path, filename)\n",
    "            if os.path.isfile(file_path) and file_path.lower().endswith(('.png', '.jpg', '.jpeg', '.bmp', '.tiff')):\n",
    "                image = cv2.imread(file_path)\n",
    "                if image is not None:\n",
    "                    \n",
    "                    noisy_image = add_noise(image)\n",
    "                    \n",
    "                    output_folder_path = os.path.join(output_directory, folder)\n",
    "                    os.makedirs(output_folder_path, exist_ok=True)\n",
    "                    \n",
    "                    file_name, file_extension = os.path.splitext(filename)\n",
    "                    output_file_name = f\"{file_name}_noisy{file_extension}\"\n",
    "                    output_file_path = os.path.join(output_folder_path, output_file_name)\n",
    "                    cv2.imwrite(output_file_path, noisy_image)"
   ]
  },
  {
   "cell_type": "code",
   "execution_count": 12,
   "metadata": {},
   "outputs": [
    {
     "name": "stderr",
     "output_type": "stream",
     "text": [
      "<>:1: SyntaxWarning: invalid escape sequence '\\c'\n",
      "<>:2: SyntaxWarning: invalid escape sequence '\\S'\n",
      "<>:1: SyntaxWarning: invalid escape sequence '\\c'\n",
      "<>:2: SyntaxWarning: invalid escape sequence '\\S'\n",
      "C:\\Users\\BS-Test\\AppData\\Local\\Temp\\ipykernel_27812\\1308625701.py:1: SyntaxWarning: invalid escape sequence '\\c'\n",
      "  output_directory = '..\\cv_output'\n",
      "C:\\Users\\BS-Test\\AppData\\Local\\Temp\\ipykernel_27812\\1308625701.py:2: SyntaxWarning: invalid escape sequence '\\S'\n",
      "  dd='..\\Selected_Image_folder'\n"
     ]
    }
   ],
   "source": [
    "output_directory = '..\\cv_output'\n",
    "dd='..\\Selected_Image_folder'\n",
    "os.makedirs(output_directory, exist_ok=True)\n",
    "for folder in selected_folders:\n",
    "        folder_path = os.path.join(dd, folder)\n",
    "        for filename in os.listdir(folder_path):\n",
    "            file_path = os.path.join(folder_path, filename)\n",
    "            if os.path.isfile(file_path) and file_path.lower().endswith(('.png', '.jpg', '.jpeg', '.bmp', '.tiff')):\n",
    "                image = cv2.imread(file_path)\n",
    "                if image is not None:\n",
    "                    \n",
    "                    gray_image = cv2.cvtColor(image, cv2.COLOR_BGR2GRAY)\n",
    "                    \n",
    "                    edges = cv2.Canny(gray_image, 100, 200)\n",
    "                    \n",
    "                    file_name, file_extension = os.path.splitext(filename)\n",
    "                    \n",
    "                    output_file_path = os.path.join(output_directory, folder, f\"{file_name}_edges{file_extension}\")\n",
    "                    \n",
    "                    cv2.imwrite(output_file_path, edges)"
   ]
  },
  {
   "cell_type": "code",
   "execution_count": 13,
   "metadata": {},
   "outputs": [
    {
     "name": "stderr",
     "output_type": "stream",
     "text": [
      "<>:1: SyntaxWarning: invalid escape sequence '\\c'\n",
      "<>:2: SyntaxWarning: invalid escape sequence '\\S'\n",
      "<>:1: SyntaxWarning: invalid escape sequence '\\c'\n",
      "<>:2: SyntaxWarning: invalid escape sequence '\\S'\n",
      "C:\\Users\\BS-Test\\AppData\\Local\\Temp\\ipykernel_27812\\1425894455.py:1: SyntaxWarning: invalid escape sequence '\\c'\n",
      "  output_directory = '..\\cv_output'\n",
      "C:\\Users\\BS-Test\\AppData\\Local\\Temp\\ipykernel_27812\\1425894455.py:2: SyntaxWarning: invalid escape sequence '\\S'\n",
      "  dd='..\\Selected_Image_folder'\n"
     ]
    }
   ],
   "source": [
    "output_directory = '..\\cv_output'\n",
    "dd='..\\Selected_Image_folder'\n",
    "os.makedirs(output_directory, exist_ok=True)\n",
    "for folder in selected_folders:\n",
    "        folder_path = os.path.join(dd, folder)\n",
    "        for filename in os.listdir(folder_path):\n",
    "            file_path = os.path.join(folder_path, filename)\n",
    "            if os.path.isfile(file_path) and file_path.lower().endswith(('.png', '.jpg', '.jpeg', '.bmp', '.tiff')):\n",
    "                # Read the image\n",
    "                image = cv2.imread(file_path)\n",
    "                if image is not None:\n",
    "                    # Convert the image to grayscale\n",
    "                    gray_image = cv2.cvtColor(image, cv2.COLOR_BGR2GRAY)\n",
    "                    # Perform histogram equalization\n",
    "                    equalized_image = cv2.equalizeHist(gray_image)\n",
    "                    \n",
    "                    # Get filename and extension\n",
    "                    file_name, file_extension = os.path.splitext(filename)\n",
    "                    # Construct output file path with 'equalized' suffix\n",
    "                    output_file_path = os.path.join(output_directory, folder, f\"{file_name}_equalized{file_extension}\")\n",
    "                    # Save the equalized image\n",
    "                    cv2.imwrite(output_file_path, equalized_image)"
   ]
  },
  {
   "cell_type": "code",
   "execution_count": 14,
   "metadata": {},
   "outputs": [
    {
     "name": "stderr",
     "output_type": "stream",
     "text": [
      "<>:1: SyntaxWarning: invalid escape sequence '\\c'\n",
      "<>:2: SyntaxWarning: invalid escape sequence '\\S'\n",
      "<>:1: SyntaxWarning: invalid escape sequence '\\c'\n",
      "<>:2: SyntaxWarning: invalid escape sequence '\\S'\n",
      "C:\\Users\\BS-Test\\AppData\\Local\\Temp\\ipykernel_27812\\2095706627.py:1: SyntaxWarning: invalid escape sequence '\\c'\n",
      "  output_directory = '..\\cv_output'\n",
      "C:\\Users\\BS-Test\\AppData\\Local\\Temp\\ipykernel_27812\\2095706627.py:2: SyntaxWarning: invalid escape sequence '\\S'\n",
      "  dd='..\\Selected_Image_folder'\n"
     ]
    }
   ],
   "source": [
    "output_directory = '..\\cv_output'\n",
    "dd='..\\Selected_Image_folder'\n",
    "os.makedirs(output_directory, exist_ok=True)\n",
    "for folder in selected_folders:\n",
    "        folder_path = os.path.join(dd, folder)\n",
    "        for filename in os.listdir(folder_path):\n",
    "            file_path = os.path.join(folder_path, filename)\n",
    "            if os.path.isfile(file_path) and file_path.lower().endswith(('.png', '.jpg', '.jpeg', '.bmp', '.tiff')):\n",
    "                image = cv2.imread(file_path)\n",
    "                if image is not None:\n",
    "                    gray_image = cv2.cvtColor(image, cv2.COLOR_BGR2GRAY)\n",
    "                    \n",
    "                    _, global_threshold = cv2.threshold(gray_image, 127, 255, cv2.THRESH_BINARY)\n",
    "                    \n",
    "                    adaptive_threshold = cv2.adaptiveThreshold(gray_image, 255, cv2.ADAPTIVE_THRESH_GAUSSIAN_C, cv2.THRESH_BINARY, 11, 2)\n",
    "                   \n",
    "                    file_name, file_extension = os.path.splitext(filename)\n",
    "                    \n",
    "                    global_output_file_path = os.path.join(output_directory, folder, f\"{file_name}_global_threshold{file_extension}\")\n",
    "                    cv2.imwrite(global_output_file_path, global_threshold)\n",
    "                    \n",
    "                    adaptive_output_file_path = os.path.join(output_directory, folder, f\"{file_name}_adaptive_threshold{file_extension}\")\n",
    "                    cv2.imwrite(adaptive_output_file_path, adaptive_threshold)"
   ]
  }
 ],
 "metadata": {
  "kernelspec": {
   "display_name": "Python 3",
   "language": "python",
   "name": "python3"
  },
  "language_info": {
   "codemirror_mode": {
    "name": "ipython",
    "version": 3
   },
   "file_extension": ".py",
   "mimetype": "text/x-python",
   "name": "python",
   "nbconvert_exporter": "python",
   "pygments_lexer": "ipython3",
   "version": "3.12.3"
  }
 },
 "nbformat": 4,
 "nbformat_minor": 2
}
